{
 "cells": [
  {
   "cell_type": "markdown",
   "metadata": {},
   "source": [
    "# Regular Expressions"
   ]
  },
  {
   "cell_type": "markdown",
   "metadata": {},
   "source": [
    "# Tasks today:\n",
    "1) <b>Importing</b> <br>\n",
    "2) <b>Using Regular Expressions</b> <br>\n",
    " &nbsp;&nbsp;&nbsp;&nbsp; a) re.compile() <br>\n",
    " &nbsp;&nbsp;&nbsp;&nbsp; b) re.match() <br>\n",
    " &nbsp;&nbsp;&nbsp;&nbsp; c) re.findall() <br>\n",
    " &nbsp;&nbsp;&nbsp;&nbsp; d) re.search() <br>\n",
    "3) <b>Sets</b> <br>\n",
    " &nbsp;&nbsp;&nbsp;&nbsp; a) Integer Ranges <br>\n",
    " &nbsp;&nbsp;&nbsp;&nbsp; b) Character Ranges <br>\n",
    "4) <b>Counting Occurences</b> <br>\n",
    " &nbsp;&nbsp;&nbsp;&nbsp; a) {x} <br>\n",
    " &nbsp;&nbsp;&nbsp;&nbsp; b) {, x} <br>\n",
    " &nbsp;&nbsp;&nbsp;&nbsp; c) {?} <br>\n",
    " &nbsp;&nbsp;&nbsp;&nbsp; d) {*} <br>\n",
    " &nbsp;&nbsp;&nbsp;&nbsp; e) {+} <br>\n",
    "5) <b>In-Class Exercise #1</b> <br>\n",
    "6) <b>Escaping Characters</b> <br>\n",
    "7) <b>Grouping</b> <br>\n",
    "8) <b>In-Class Exercise #2</b> <br>\n",
    "9) <b>Opening a File</b> <br>\n",
    " &nbsp;&nbsp;&nbsp;&nbsp; a) open() <br>\n",
    " &nbsp;&nbsp;&nbsp;&nbsp; b) with open() <br>\n",
    " &nbsp;&nbsp;&nbsp;&nbsp; c) re.match() <br>\n",
    " &nbsp;&nbsp;&nbsp;&nbsp; d) re.search() <br>\n",
    " &nbsp;&nbsp;&nbsp;&nbsp; e) Store the String in a Variable <br>\n",
    "10) <b>Regex Project</b> <br>"
   ]
  },
  {
   "cell_type": "markdown",
   "metadata": {},
   "source": [
    "### Importing <br>\n",
    "<p>Regular Expressions are universal throughout most programming languages... They are generally imported through the module 're'.</p>"
   ]
  },
  {
   "cell_type": "code",
   "execution_count": 71,
   "metadata": {},
   "outputs": [],
   "source": [
    "# import re\n",
    "import re"
   ]
  },
  {
   "cell_type": "markdown",
   "metadata": {},
   "source": [
    "### Using Regular Expressions <br>\n",
    "<p>Regular expressions give us the ability to search for patterns within text, strings, files, etc. They serve several uses, such as; security measures, searching, filtering, pattern recognition, and more...</p>"
   ]
  },
  {
   "cell_type": "markdown",
   "metadata": {},
   "source": [
    "##### re.compile()"
   ]
  },
  {
   "cell_type": "code",
   "execution_count": 72,
   "metadata": {},
   "outputs": [],
   "source": [
    "# using the re module and compile method to build out our patterns\n",
    "\n",
    "abcd_pattern = re.compile('abcd')\n"
   ]
  },
  {
   "cell_type": "markdown",
   "metadata": {},
   "source": [
    "##### re.match()"
   ]
  },
  {
   "cell_type": "code",
   "execution_count": 73,
   "metadata": {},
   "outputs": [
    {
     "name": "stdout",
     "output_type": "stream",
     "text": [
      "<re.Match object; span=(0, 4), match='abcd'>\n",
      "(0, 4)\n"
     ]
    }
   ],
   "source": [
    "#return a match object\n",
    "#specific to the start of your string\n",
    "\n",
    "match = abcd_pattern.match(\"abcd123\")\n",
    "print(match)\n",
    "\n",
    "# utilize the span to grab the match from the string\n",
    "print(match.span())"
   ]
  },
  {
   "cell_type": "markdown",
   "metadata": {},
   "source": [
    "##### re.findall()"
   ]
  },
  {
   "cell_type": "code",
   "execution_count": 74,
   "metadata": {},
   "outputs": [
    {
     "name": "stdout",
     "output_type": "stream",
     "text": [
      "['abcd', 'abcd', 'abcd']\n"
     ]
    }
   ],
   "source": [
    "# returns a list that shows everytime a pattern is found\n",
    "\n",
    "finders = abcd_pattern.findall(\"3bjejsdkjabcdldksjkljdsabcdkldjlskabcd\")\n",
    "print(finders)"
   ]
  },
  {
   "cell_type": "markdown",
   "metadata": {},
   "source": [
    "##### re.search()"
   ]
  },
  {
   "cell_type": "code",
   "execution_count": 75,
   "metadata": {},
   "outputs": [
    {
     "name": "stdout",
     "output_type": "stream",
     "text": [
      "None\n",
      "<re.Match object; span=(4, 8), match='abcd'>\n"
     ]
    }
   ],
   "source": [
    "match2 = pattern.search(\"3b33abcd334343abcd\") # syntax 1 for utilizing search method\n",
    "print(match2)\n",
    "\n",
    "\n",
    "match3 = re.search(\"abcd\",\"3b33abcd334343abcd\") # syntax 2 for utilizing search method\n",
    "print(match3)"
   ]
  },
  {
   "cell_type": "markdown",
   "metadata": {},
   "source": [
    "### Sets <br>\n",
    "<p>The following cells will allow you to use regular expressions to search for certain values within a range such as numbers 1 through 4.</p>"
   ]
  },
  {
   "cell_type": "markdown",
   "metadata": {},
   "source": [
    "##### [a-z] or [A-Z] - any lowercase/uppercase letters from a to z<br/>[^2] - anything that's not 2"
   ]
  },
  {
   "cell_type": "markdown",
   "metadata": {},
   "source": [
    "##### Integer Ranges"
   ]
  },
  {
   "cell_type": "code",
   "execution_count": 76,
   "metadata": {},
   "outputs": [
    {
     "name": "stdout",
     "output_type": "stream",
     "text": [
      "<re.Match object; span=(1, 4), match='172'>\n",
      "(1, 4)\n"
     ]
    }
   ],
   "source": [
    "pattern_int = re.compile(\"[0-7][7-9][0-3]\")\n",
    "                            # looks for 1 character \n",
    "                            # if it doesnt meet the criteria it doesnt return anything\n",
    "\n",
    "my_string = \"8372998\"\n",
    "\n",
    "random_numbers = pattern_int.search(\"8172998\")\n",
    "print(random_numbers)\n",
    "\n",
    "random_numbers[0]\n",
    "print(random_numbers.span())\n",
    "\n",
    "# print(my_string[random_numbers.span()[0]:random_numbers.span()[1]])\n",
    "# easier to just index into match"
   ]
  },
  {
   "cell_type": "markdown",
   "metadata": {},
   "source": [
    "##### Character Ranges"
   ]
  },
  {
   "cell_type": "code",
   "execution_count": 77,
   "metadata": {},
   "outputs": [
    {
     "name": "stdout",
     "output_type": "stream",
     "text": [
      "['Hell', 'Gene', 'Keno']\n"
     ]
    }
   ],
   "source": [
    "pattern_char = re.compile(\"[A-Z][a-z][a-z][a-z]\") # first occurance of the sets (lower case letters for example)\n",
    "                                                            # ( ^ ) looks for the start of the string\n",
    "\n",
    "found = pattern_char.findall(\"Hello there, General Kenobi\")\n",
    "print(found)"
   ]
  },
  {
   "cell_type": "markdown",
   "metadata": {},
   "source": [
    "### Counting Occurences"
   ]
  },
  {
   "cell_type": "markdown",
   "metadata": {},
   "source": [
    "##### {x} - something that occurs {num_of_times}"
   ]
  },
  {
   "cell_type": "code",
   "execution_count": 78,
   "metadata": {},
   "outputs": [
    {
     "name": "stdout",
     "output_type": "stream",
     "text": [
      "['Hello', 'Gener', 'Kenob']\n"
     ]
    }
   ],
   "source": [
    "pattern_char2 = re.compile(\"[A-Z][a-z]{4}\")\n",
    "\n",
    "found2 = pattern_char2.findall(\"Hello there, General Kenobi\")\n",
    "print(found2)"
   ]
  },
  {
   "cell_type": "code",
   "execution_count": 79,
   "metadata": {},
   "outputs": [
    {
     "name": "stdout",
     "output_type": "stream",
     "text": [
      "['BB8']\n"
     ]
    }
   ],
   "source": [
    "char_pattern_count = re.compile(\"[A-Z]{2}[0-9]\") # {} counts number of times \n",
    "droid_string = \"BB8 is pretty cool but I have always preferred R2D@ and C3PO for my droids\"\n",
    "\n",
    "found_count = char_pattern_count.findall(droid_string)\n",
    "\n",
    "\n",
    "print(found_count)"
   ]
  },
  {
   "cell_type": "markdown",
   "metadata": {},
   "source": [
    "##### {x, x} - something that occurs between x and x times"
   ]
  },
  {
   "cell_type": "code",
   "execution_count": 80,
   "metadata": {},
   "outputs": [
    {
     "name": "stdout",
     "output_type": "stream",
     "text": [
      "['BB8', 'R2', 'C3']\n"
     ]
    }
   ],
   "source": [
    "char_pattern_count2 = re.compile(\"[A-Z]{1,2}[0-9]\")\n",
    "\n",
    "found_count2 = char_pattern_count2.findall(droid_string)\n",
    "print(found_count2)"
   ]
  },
  {
   "cell_type": "markdown",
   "metadata": {},
   "source": [
    "##### ? - something that occurs 0 or 1 time"
   ]
  },
  {
   "cell_type": "code",
   "execution_count": 81,
   "metadata": {},
   "outputs": [
    {
     "name": "stdout",
     "output_type": "stream",
     "text": [
      "['BB8', 'R2D', 'C3P']\n"
     ]
    }
   ],
   "source": [
    "char_pattern_count3 = re.compile(\"[A-Z]{1,2}[0-9][A-Z]?[0-9]?\")\n",
    "\n",
    "found_count3 = char_pattern_count3.findall(droid_string)\n",
    "print(found_count3)"
   ]
  },
  {
   "cell_type": "markdown",
   "metadata": {},
   "source": [
    "##### * - something that occurs at least 0 times"
   ]
  },
  {
   "cell_type": "code",
   "execution_count": 82,
   "metadata": {},
   "outputs": [
    {
     "name": "stdout",
     "output_type": "stream",
     "text": [
      "['Hello', 'I', 'General', 'Kenobi', 'Army', 'Republic']\n"
     ]
    }
   ],
   "source": [
    "# .* very helpful - basically grab any character any # of times it occurs\n",
    "\n",
    "pattern = re.compile(\"[A-Z][a-z]*\")\n",
    "\n",
    "found_pattern = pattern.findall(\"Hello I am General Kenobi, leader of the Army of the Republic!\")\n",
    "print(found_pattern)"
   ]
  },
  {
   "cell_type": "markdown",
   "metadata": {},
   "source": [
    "##### + - something that occurs at least once"
   ]
  },
  {
   "cell_type": "code",
   "execution_count": 83,
   "metadata": {},
   "outputs": [
    {
     "name": "stdout",
     "output_type": "stream",
     "text": [
      "['8654309', '5555555', '5882300']\n"
     ]
    }
   ],
   "source": [
    "pattern = re.compile(\"[0-9]+\")\n",
    "\n",
    "found_pattern = pattern.findall(\"This first list is a list of phone numbers: 8654309 5555555 5882300\")\n",
    "print(found_pattern)"
   ]
  },
  {
   "cell_type": "markdown",
   "metadata": {},
   "source": [
    "##### In-class exercise 1: \n",
    "\n",
    "Use a regular expression to find every number in the given string"
   ]
  },
  {
   "cell_type": "code",
   "execution_count": 84,
   "metadata": {},
   "outputs": [
    {
     "name": "stdout",
     "output_type": "stream",
     "text": [
      "['708-392-3235', '1-932-359-2038']\n"
     ]
    }
   ],
   "source": [
    "my_string = \"Hello, there I am trying to reach 708-392-3235 but I am unable to get an answer. Please call be back at 1-932-359-2038\"\n",
    "\n",
    "# pattern = re.compile(\"[0-9][-]?[0-9]?[0-9][-]{1,13}\")\n",
    "pattern = re.compile('[0-9]?[-]?[0-9]{3}[-][0-9]{3}[-][0-9]{4}')\n",
    "\n",
    "\n",
    "found_pattern = pattern.findall(my_string)\n",
    "print(found_pattern)"
   ]
  },
  {
   "cell_type": "markdown",
   "metadata": {},
   "source": [
    "### Escaping Characters"
   ]
  },
  {
   "cell_type": "markdown",
   "metadata": {},
   "source": [
    "##### \\w - look for any Unicode character<br/>\\W - look for anything that isnt a Unicode character\n",
    "\n",
    "[History on Unicode](http://unicode.org/standard/WhatIsUnicode.html)\n",
    "\n",
    "[More on Unicode Characters](https://en.wikipedia.org/wiki/List_of_Unicode_characters)"
   ]
  },
  {
   "cell_type": "code",
   "execution_count": 85,
   "metadata": {},
   "outputs": [
    {
     "name": "stdout",
     "output_type": "stream",
     "text": [
      "['This', 'is', 'a', 'sentence', 'With', '1', 'exclamation', 'point', 'at', 'the', 'end', 'Also', 'don', 't', 'forget', 'to', 'floss']\n"
     ]
    }
   ],
   "source": [
    "uni_pattern = re.compile(\"[\\w]+\")\n",
    "non_uni_pattern = re.compile(\"[\\W]+\")\n",
    "\n",
    "my_string = \"This is a sentence. With 1 exclamation point at the end! Also don't forget to floss!\"\n",
    "\n",
    "found_uni = uni_pattern.findall(my_string)\n",
    "print(found_uni)\n",
    "# doesn't grab any punctuation\n",
    "\n"
   ]
  },
  {
   "cell_type": "code",
   "execution_count": 86,
   "metadata": {},
   "outputs": [
    {
     "name": "stdout",
     "output_type": "stream",
     "text": [
      "[' ', ' ', ' ', '. ', ' ', ' ', ' ', ' ', ' ', ' ', '! ', ' ', \"'\", ' ', ' ', ' ', '!']\n"
     ]
    }
   ],
   "source": [
    "found_non_uni = non_uni_pattern.findall(my_string)\n",
    "print(found_non_uni)"
   ]
  },
  {
   "cell_type": "markdown",
   "metadata": {},
   "source": [
    "##### \\d - look for any digit 0-9<br/>\\D - look for anything that isnt a digit"
   ]
  },
  {
   "cell_type": "code",
   "execution_count": 87,
   "metadata": {},
   "outputs": [
    {
     "name": "stdout",
     "output_type": "stream",
     "text": [
      "['21st', '22nd', '25th']\n"
     ]
    }
   ],
   "source": [
    "digit_pattern = re.compile(\"[\\d]{1,2}[a-z]{2}\")\n",
    "\n",
    "my_string = \"Today is the 21st tomorrow will be the 22nd of August and in 3 days it will be the 25th.\"\n",
    "\n",
    "found_date = digit_pattern.findall(my_string)\n",
    "print(found_date)"
   ]
  },
  {
   "cell_type": "code",
   "execution_count": 88,
   "metadata": {},
   "outputs": [
    {
     "name": "stdout",
     "output_type": "stream",
     "text": [
      "['Today is the ', 'st tomorrow will be the ', 'nd of August and in ', ' days it will be the ', 'th.']\n"
     ]
    }
   ],
   "source": [
    "no_dig_pattern = re.compile(\"\\D+\")\n",
    "\n",
    "found_non_date = no_dig_pattern.findall(my_string)\n",
    "print(found_non_date)"
   ]
  },
  {
   "cell_type": "markdown",
   "metadata": {},
   "source": [
    "##### \\s - look for any white space<br/>\\S - look for anything that isnt whitespace"
   ]
  },
  {
   "cell_type": "code",
   "execution_count": 89,
   "metadata": {},
   "outputs": [
    {
     "name": "stdout",
     "output_type": "stream",
     "text": [
      "[' ', ' ', ' ', ' ', '        ', ' ', ' ', '     ', '      ', ' ']\n"
     ]
    }
   ],
   "source": [
    "space_pattern = re.compile(\"\\s+\")\n",
    "\n",
    "my_string = \"This is a sentence with        odd # of     spaces      in it!\"\n",
    "\n",
    "found_space = space_pattern.findall(my_string)\n",
    "print(found_space)"
   ]
  },
  {
   "cell_type": "code",
   "execution_count": 90,
   "metadata": {},
   "outputs": [
    {
     "name": "stdout",
     "output_type": "stream",
     "text": [
      "['This', 'is', 'a', 'sentence', 'with', 'odd', '#', 'of', 'spaces', 'in', 'it!']\n"
     ]
    }
   ],
   "source": [
    "no_space_pattern = re.compile(\"\\S+\")\n",
    "\n",
    "found_no_space = no_space_pattern.findall(my_string)\n",
    "print(found_no_space)"
   ]
  },
  {
   "cell_type": "markdown",
   "metadata": {},
   "source": [
    "##### \\b - look for boundaries or edges of a word<br/>\\B - look for anything that isnt a boundary"
   ]
  },
  {
   "cell_type": "code",
   "execution_count": 91,
   "metadata": {},
   "outputs": [
    {
     "name": "stdout",
     "output_type": "stream",
     "text": [
      "[]\n"
     ]
    }
   ],
   "source": [
    "bound_pattern = re.compile(r\"\\bTheCodingTemple\\b\")\n",
    "no_bound_pattern = re.compile(r\"\\BTheCodingTemple\\B\")\n",
    "\n",
    "my_string = \"KenaiTheCodingTempleKenai\" # anything outside the b or B is considered a boundary\n",
    "\n",
    "found_bound = bound_pattern.findall(my_string)\n",
    "print(found_bound)"
   ]
  },
  {
   "cell_type": "code",
   "execution_count": 92,
   "metadata": {},
   "outputs": [
    {
     "name": "stdout",
     "output_type": "stream",
     "text": [
      "['TheCodingTemple']\n"
     ]
    }
   ],
   "source": [
    "found_no_bound = no_bound_pattern.findall(my_string)\n",
    "print(found_no_bound)"
   ]
  },
  {
   "cell_type": "code",
   "execution_count": 93,
   "metadata": {},
   "outputs": [
    {
     "name": "stdout",
     "output_type": "stream",
     "text": [
      "['cat']\n"
     ]
    }
   ],
   "source": [
    "my_string = \"truncate\" # want to grab \"cat\"\n",
    "\n",
    "found_cat = re.findall(r\"\\Bcat\\B\", my_string)\n",
    "print(found_cat)\n",
    "\n",
    "# might be useful for area code or email search\n"
   ]
  },
  {
   "cell_type": "markdown",
   "metadata": {},
   "source": [
    "### Grouping"
   ]
  },
  {
   "cell_type": "code",
   "execution_count": 94,
   "metadata": {},
   "outputs": [
    {
     "name": "stdout",
     "output_type": "stream",
     "text": [
      "Max Smith \n",
      "\n",
      "Not a valid name\n",
      "\n",
      "Sam Darnold \n",
      "\n",
      "LeBron James \n",
      "\n",
      "Micheal Jordan \n",
      "\n",
      "Kevin Durant \n",
      "\n",
      "Patrick McCormick \n",
      "\n"
     ]
    }
   ],
   "source": [
    "my_string = \"Max Smith, aaron rodgers, Sam Darnold, LeBron James, Micheal Jordan, Kevin Durant, Patrick McCormick\"\n",
    "\n",
    "\n",
    "# what denotes a group is ()\n",
    "                            #first         #2nd\n",
    "pattern_name = re.compile(\"([A-Z][\\w]+) ([A-Z)[\\w]+)\")\n",
    "\n",
    "# list\n",
    "names_list = my_string.split(\",\") # splits on comma\n",
    "\n",
    "for name in names_list:\n",
    "    match = pattern_name.search(name)\n",
    "\n",
    "    if match:\n",
    "        # print(match.groups()) # prints in a tuple\n",
    "        print(match.group(1), match.group(2), \"\\n\")\n",
    "    else:\n",
    "        print(\"Not a valid name\\n\")"
   ]
  },
  {
   "cell_type": "markdown",
   "metadata": {},
   "source": [
    "##### In-class Exercise 2:\n",
    "\n",
    "Write a function using regular expressions to find the domain name in the given email addresses (and return None for the invalid email addresses)<br><b>HINT: Use '|' for either or</b>"
   ]
  },
  {
   "cell_type": "code",
   "execution_count": 95,
   "metadata": {},
   "outputs": [
    {
     "name": "stdout",
     "output_type": "stream",
     "text": [
      "None\n",
      "('pocohontas1776', 'gmail', 'com')\n",
      "None\n",
      "('yourfavoriteband', 'g6', 'org')\n",
      "None\n"
     ]
    }
   ],
   "source": [
    "my_emails = [\"jordanw@codingtemple.orgcom\", \"pocohontas1776@gmail.com\", \"helloworld@aol..com\",\n",
    "             \"yourfavoriteband@g6.org\", \"@codingtemple.com\"]\n",
    "\n",
    "# You can also use the $ at the end of your compile expression -- this stops the search\n",
    "\n",
    "#.com OR .org => com|org\n",
    "\n",
    "#Expected output:\n",
    "#None\n",
    "#pocohontas1776@gmail.com\n",
    "#None\n",
    "#yourfavoriteband@g6.org\n",
    "#None\n",
    "\n",
    "\n",
    "pattern_email = re.compile(\"([\\w]+)@([\\w]+)\\.(com|org)$\")\n",
    "\n",
    "for email in my_emails:\n",
    "    match = pattern_email.search(email)\n",
    "\n",
    "    if match:\n",
    "        print(match.groups())\n",
    "    else:\n",
    "        print(\"None\")\n",
    "    \n",
    "\n",
    "\n",
    "\n"
   ]
  },
  {
   "cell_type": "code",
   "execution_count": 96,
   "metadata": {},
   "outputs": [
    {
     "name": "stdout",
     "output_type": "stream",
     "text": [
      "None\n",
      "Name: pocahontas, Email: pocohontas1776@gmailcom\n",
      "None\n",
      "None\n",
      "Name: ryan rhoades, Email: yourfavoriteband@g6org\n",
      "None\n"
     ]
    }
   ],
   "source": [
    "my_names_emails = [\"jordan world jordanw@codingtemple.orgcom\", \"pocahontas 1070 riverbend rd pocohontas1776@gmail.com\", \"helloworld@aol..com\",\n",
    "            \"alex swiggum\", \"ryan rhoades 123 cool street yourfavoriteband@g6.org\", \"@codingtemple.com\"]\n",
    "\n",
    "\n",
    "                                # first name   #lastname      #email      #email\n",
    "name_email_pattern = re.compile(\"^([A-z]+) ([A-z]+)*.*\\s([\\w]+@[\\w]+)\\.(com|org)$\")\n",
    "\n",
    "for name_email in my_names_emails:\n",
    "    match = name_email_pattern.search(name_email)\n",
    "\n",
    "    if match:\n",
    "        if match.group(2):\n",
    "            print(f\"Name: {match.group(1)} {match.group(2)}, Email: {match.group(3)}{match.group(4)}\")\n",
    "        else:\n",
    "            print(f\"Name: {match.group(1)}, Email: {match.group(3)}{match.group(4)}\")\n",
    "    else:\n",
    "        print(\"None\")"
   ]
  },
  {
   "cell_type": "markdown",
   "metadata": {},
   "source": [
    "### Opening a File <br>\n",
    "<p>Python gives us a couple ways to import files, below are the two used most often.</p>"
   ]
  },
  {
   "cell_type": "markdown",
   "metadata": {},
   "source": [
    "##### open()"
   ]
  },
  {
   "cell_type": "code",
   "execution_count": 97,
   "metadata": {},
   "outputs": [
    {
     "name": "stdout",
     "output_type": "stream",
     "text": [
      "Hawkins, Derek\tderek@codingtemple.com\t(555) 555-5555\tTeacher, Coding Temple\t@derekhawkins\n",
      "Zhai, Mo\tmozhai@codingtemple.com\t(555) 555-5554\tTeacher, Coding Temple\n",
      "Johnson, Joe\tjoejohnson@codingtemple.com\t\tJohson, Joe\n",
      "Osterberg, Sven-Erik\tgovernor@norrbotten.co.se\t\tGovernor, Norrbotten\t@sverik\n",
      ", Tim\ttim@killerrabbit.com\t\tEnchanter, Killer Rabbit Cave\n",
      "Butz, Ryan\tryanb@codingtemple.com\t(555) 555-5543\tCEO, Coding Temple\t@ryanbutz\n",
      "Doctor, The\tdoctor+companion@tardis.co.uk\t\tTime Lord, Gallifrey\n",
      "Exampleson, Example\tme@example.com\t555-555-5552\tExample, Example Co.\t@example\n",
      "Pael, Ripal\tripalp@codingtemple.com\t(555) 555-5553\tTeacher, Coding Temple\t@ripalp\n",
      "Vader, Darth\tdarth-vader@empire.gov\t(555) 555-4444\tSith Lord, Galactic Empire\t@darthvader\n",
      "Fernandez de la Vega Sanz, Maria Teresa\tmtfvs@spain.gov\t\tFirst Deputy Prime Minister, Spanish Gov\n",
      "\n",
      "\n"
     ]
    }
   ],
   "source": [
    "f = open(\"names.txt\", \"r+\") # read and write\n",
    "\n",
    "data = f.read()\n",
    "# print(data)\n",
    "\n",
    "f.write(\"\\nHello from Rangers 127\")\n",
    "print(data)\n",
    "\n",
    "f.close() # always close files\n"
   ]
  },
  {
   "cell_type": "code",
   "execution_count": 98,
   "metadata": {},
   "outputs": [],
   "source": [
    "f.close() # always close files"
   ]
  },
  {
   "cell_type": "markdown",
   "metadata": {},
   "source": [
    "##### with open()"
   ]
  },
  {
   "cell_type": "code",
   "execution_count": 99,
   "metadata": {},
   "outputs": [
    {
     "name": "stdout",
     "output_type": "stream",
     "text": [
      "Hawkins, Derek\tderek@codingtemple.com\t(555) 555-5555\tTeacher, Coding Temple\t@derekhawkins\n",
      "Zhai, Mo\tmozhai@codingtemple.com\t(555) 555-5554\tTeacher, Coding Temple\n",
      "Johnson, Joe\tjoejohnson@codingtemple.com\t\tJohson, Joe\n",
      "Osterberg, Sven-Erik\tgovernor@norrbotten.co.se\t\tGovernor, Norrbotten\t@sverik\n",
      ", Tim\ttim@killerrabbit.com\t\tEnchanter, Killer Rabbit Cave\n",
      "Butz, Ryan\tryanb@codingtemple.com\t(555) 555-5543\tCEO, Coding Temple\t@ryanbutz\n",
      "Doctor, The\tdoctor+companion@tardis.co.uk\t\tTime Lord, Gallifrey\n",
      "Exampleson, Example\tme@example.com\t555-555-5552\tExample, Example Co.\t@example\n",
      "Pael, Ripal\tripalp@codingtemple.com\t(555) 555-5553\tTeacher, Coding Temple\t@ripalp\n",
      "Vader, Darth\tdarth-vader@empire.gov\t(555) 555-4444\tSith Lord, Galactic Empire\t@darthvader\n",
      "Fernandez de la Vega Sanz, Maria Teresa\tmtfvs@spain.gov\t\tFirst Deputy Prime Minister, Spanish Gov\n",
      "\n",
      "\n",
      "Hello from Rangers 127\n"
     ]
    }
   ],
   "source": [
    "with open(\"names.txt\") as f:\n",
    "    data = f.read()\n",
    "    print(data)"
   ]
  },
  {
   "cell_type": "code",
   "execution_count": 100,
   "metadata": {},
   "outputs": [
    {
     "name": "stdout",
     "output_type": "stream",
     "text": [
      "Hawkins, Derek\tderek@codingtemple.com\t(555) 555-5555\tTeacher, Coding Temple\t@derekhawkins\n",
      "Zhai, Mo\tmozhai@codingtemple.com\t(555) 555-5554\tTeacher, Coding Temple\n",
      "Johnson, Joe\tjoejohnson@codingtemple.com\t\tJohson, Joe\n",
      "Osterberg, Sven-Erik\tgovernor@norrbotten.co.se\t\tGovernor, Norrbotten\t@sverik\n",
      ", Tim\ttim@killerrabbit.com\t\tEnchanter, Killer Rabbit Cave\n",
      "Butz, Ryan\tryanb@codingtemple.com\t(555) 555-5543\tCEO, Coding Temple\t@ryanbutz\n",
      "Doctor, The\tdoctor+companion@tardis.co.uk\t\tTime Lord, Gallifrey\n",
      "Exampleson, Example\tme@example.com\t555-555-5552\tExample, Example Co.\t@example\n",
      "Pael, Ripal\tripalp@codingtemple.com\t(555) 555-5553\tTeacher, Coding Temple\t@ripalp\n",
      "Vader, Darth\tdarth-vader@empire.gov\t(555) 555-4444\tSith Lord, Galactic Empire\t@darthvader\n",
      "Fernandez de la Vega Sanz, Maria Teresa\tmtfvs@spain.gov\t\tFirst Deputy Prime Minister, Spanish Gov\n",
      "\n",
      "\n",
      "Hello from Rangers 127\n",
      "H\n"
     ]
    }
   ],
   "source": [
    "with open(\"names.txt\") as f:\n",
    "    list_data = f.readlines() # makes a list split on the new line\n",
    "print(data)\n",
    "print(data[0])"
   ]
  },
  {
   "cell_type": "markdown",
   "metadata": {},
   "source": [
    "##### re.match()"
   ]
  },
  {
   "cell_type": "code",
   "execution_count": 101,
   "metadata": {},
   "outputs": [
    {
     "name": "stdout",
     "output_type": "stream",
     "text": [
      "None\n"
     ]
    }
   ],
   "source": [
    "print(re.match(\"Vader, Darth\", data))"
   ]
  },
  {
   "cell_type": "markdown",
   "metadata": {},
   "source": [
    "##### re.search()"
   ]
  },
  {
   "cell_type": "code",
   "execution_count": 102,
   "metadata": {},
   "outputs": [
    {
     "name": "stdout",
     "output_type": "stream",
     "text": [
      "<re.Match object; span=(652, 664), match='Vader, Darth'>\n"
     ]
    }
   ],
   "source": [
    "print(re.search(\"Vader, Darth\", data))"
   ]
  },
  {
   "cell_type": "code",
   "execution_count": 103,
   "metadata": {},
   "outputs": [
    {
     "name": "stdout",
     "output_type": "stream",
     "text": [
      "No Vader here\n",
      "No Vader here\n",
      "No Vader here\n",
      "No Vader here\n",
      "No Vader here\n",
      "No Vader here\n",
      "No Vader here\n",
      "No Vader here\n",
      "No Vader here\n",
      "Vader is here!\n",
      "No Vader here\n",
      "No Vader here\n",
      "No Vader here\n",
      "No Vader here\n"
     ]
    }
   ],
   "source": [
    "for data in list_data:\n",
    "    match = re.search(\"Vader, Darth\", data)\n",
    "\n",
    "    if match:\n",
    "        print(\"Vader is here!\")\n",
    "    else:\n",
    "        print(\"No Vader here\")"
   ]
  },
  {
   "cell_type": "markdown",
   "metadata": {},
   "source": [
    "##### Store the String to a Variable"
   ]
  },
  {
   "cell_type": "code",
   "execution_count": 106,
   "metadata": {},
   "outputs": [
    {
     "name": "stdout",
     "output_type": "stream",
     "text": [
      "[]\n"
     ]
    }
   ],
   "source": [
    "# print(data)\n",
    "find_vader = re.findall(\"Vader\", data)\n",
    "print(find_vader)"
   ]
  },
  {
   "cell_type": "code",
   "execution_count": 107,
   "metadata": {},
   "outputs": [
    {
     "name": "stdin",
     "output_type": "stream",
     "text": [
      "What would you like to search for, oh wise one?  Vader\n"
     ]
    },
    {
     "name": "stdout",
     "output_type": "stream",
     "text": [
      "Did not find Vader\n"
     ]
    }
   ],
   "source": [
    "search_input = input(\"What would you like to search for, oh wise one? \").strip()\n",
    "found = re.findall(search_input, data)\n",
    "\n",
    "if found:\n",
    "    print(f\"{search_input} is in the data\")\n",
    "else:\n",
    "    print(f\"Did not find {search_input}\")"
   ]
  },
  {
   "cell_type": "markdown",
   "metadata": {},
   "source": [
    "### In-Class Exercise #3 <br>\n",
    "<p>Print each persons name and twitter handle, using groups, should look like:</p>\n",
    "<p>==============<br>\n",
    "   Full Name / Twitter<br>\n",
    "   ==============</p>\n",
    "Derek Hawkins / @derekhawkins\n",
    "\n",
    " Erik Sven-Osterberg / @sverik\n",
    "\n",
    " Ryan Butz / @ryanbutz\n",
    "\n",
    " Example Exampleson / @example\n",
    "\n",
    " Ripal Pael / @ripalp\n",
    "\n",
    " Darth Vader / @darthvader"
   ]
  },
  {
   "cell_type": "code",
   "execution_count": 108,
   "metadata": {
    "scrolled": true
   },
   "outputs": [
    {
     "name": "stdout",
     "output_type": "stream",
     "text": [
      "Hawkins, Derek\tderek@codingtemple.com\t(555) 555-5555\tTeacher, Coding Temple\t@derekhawkins\n",
      "\n"
     ]
    }
   ],
   "source": [
    "with open(\"names.txt\") as f:\n",
    "    data = f.readlines()\n",
    "    print(data[0])"
   ]
  },
  {
   "cell_type": "code",
   "execution_count": 109,
   "metadata": {},
   "outputs": [
    {
     "name": "stdout",
     "output_type": "stream",
     "text": [
      "Hawkins, Derek\tderek@codingtemple.com\t(555) 555-5555\tTeacher, Coding Temple\t@derekhawkins\n",
      "Zhai, Mo\tmozhai@codingtemple.com\t(555) 555-5554\tTeacher, Coding Temple\n",
      "Johnson, Joe\tjoejohnson@codingtemple.com\t\tJohson, Joe\n",
      "Osterberg, Sven-Erik\tgovernor@norrbotten.co.se\t\tGovernor, Norrbotten\t@sverik\n",
      ", Tim\ttim@killerrabbit.com\t\tEnchanter, Killer Rabbit Cave\n",
      "Butz, Ryan\tryanb@codingtemple.com\t(555) 555-5543\tCEO, Coding Temple\t@ryanbutz\n",
      "Doctor, The\tdoctor+companion@tardis.co.uk\t\tTime Lord, Gallifrey\n",
      "Exampleson, Example\tme@example.com\t555-555-5552\tExample, Example Co.\t@example\n",
      "Pael, Ripal\tripalp@codingtemple.com\t(555) 555-5553\tTeacher, Coding Temple\t@ripalp\n",
      "Vader, Darth\tdarth-vader@empire.gov\t(555) 555-4444\tSith Lord, Galactic Empire\t@darthvader\n",
      "Fernandez de la Vega Sanz, Maria Teresa\tmtfvs@spain.gov\t\tFirst Deputy Prime Minister, Spanish Gov\n",
      "\n",
      "\n",
      "Hello from Rangers 127\n"
     ]
    }
   ],
   "source": [
    "with open(\"names.txt\") as f:\n",
    "    data = f.read()\n",
    "    print(data)\n",
    "\n",
    "      "
   ]
  },
  {
   "cell_type": "code",
   "execution_count": 110,
   "metadata": {},
   "outputs": [
    {
     "name": "stdout",
     "output_type": "stream",
     "text": [
      "Derek Hawkins / @derekhawkins\n",
      "Sven-Erik Osterberg / @sverik\n",
      "Ryan Butz / @ryanbutz\n",
      "Example Exampleson / @example\n",
      "Ripal Pael / @ripalp\n",
      "Darth Vader / @darthvader\n"
     ]
    }
   ],
   "source": [
    "pattern = re.compile(\"^(.*?),\\s*(\\S+)\\s+.*?(@\\S+)?$\")\n",
    "\n",
    "data_per_line = data.strip().split(\"\\n\")\n",
    "for row in data_per_line:\n",
    "    match = re.match(pattern, row)\n",
    "    if match:\n",
    "        last_name = match.group(1)\n",
    "        first_name = match.group(2)\n",
    "        twitter = match.group(3)\n",
    "        if twitter:\n",
    "            print(f\"{first_name} {last_name} / {twitter}\")\n",
    "\n",
    "\n"
   ]
  },
  {
   "cell_type": "markdown",
   "metadata": {},
   "source": [
    "### Regex project\n",
    "\n",
    "Use python to read the file regex_test.txt and print the last name on each line using regular expressions and groups (return None for names with no first and last name, or names that aren't properly capitalized)\n",
    "##### Hint: use with open() and readlines()"
   ]
  },
  {
   "cell_type": "code",
   "execution_count": 113,
   "metadata": {},
   "outputs": [
    {
     "data": {
      "text/plain": [
       "'\\nExpected Output\\nAbraham Lincoln\\nAndrew P Garfield\\nConnor Milliken\\nJordan Alexander Williams\\nNone\\nNone\\n'"
      ]
     },
     "execution_count": 113,
     "metadata": {},
     "output_type": "execute_result"
    }
   ],
   "source": [
    "\"\"\"\n",
    "Expected Output\n",
    "Abraham Lincoln\n",
    "Andrew P Garfield\n",
    "Connor Milliken\n",
    "Jordan Alexander Williams\n",
    "None\n",
    "None\n",
    "\"\"\""
   ]
  },
  {
   "cell_type": "code",
   "execution_count": 128,
   "metadata": {},
   "outputs": [
    {
     "name": "stdout",
     "output_type": "stream",
     "text": [
      "Abraham  Lincoln\n",
      "Andrew Garfield P\n",
      "Connor  Milliken\n",
      "Jordan Williams Alexander\n"
     ]
    }
   ],
   "source": [
    "with open(\"regex_test.txt\",\"r+\") as f:\n",
    "    list_data = f.readlines()\n",
    "    # print(data[0])\n",
    "\n",
    "pattern = re.compile(\"^([A-Z][a-z]*)\\s+([A-Z][a-z]*)(?:\\s+([A-Z][a-z]*))?$\")\n",
    "\n",
    "    \n",
    "for info in list_data:\n",
    "    match = re.match(pattern, info.strip())\n",
    "    \n",
    "    if match:\n",
    "        first_name = match.group(1)\n",
    "        middle_name = match.group(3) or ''\n",
    "        last_name = match.group(2)\n",
    "        \n",
    "        formatted_name = f\"{first_name} {middle_name} {last_name}\"\n",
    "        print(f\"{formatted_name}\")"
   ]
  },
  {
   "cell_type": "code",
   "execution_count": null,
   "metadata": {},
   "outputs": [],
   "source": []
  }
 ],
 "metadata": {
  "kernelspec": {
   "display_name": "Python 3 (ipykernel)",
   "language": "python",
   "name": "python3"
  },
  "language_info": {
   "codemirror_mode": {
    "name": "ipython",
    "version": 3
   },
   "file_extension": ".py",
   "mimetype": "text/x-python",
   "name": "python",
   "nbconvert_exporter": "python",
   "pygments_lexer": "ipython3",
   "version": "3.11.4"
  }
 },
 "nbformat": 4,
 "nbformat_minor": 4
}
